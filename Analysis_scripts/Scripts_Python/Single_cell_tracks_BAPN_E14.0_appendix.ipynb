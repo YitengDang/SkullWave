{
 "cells": [
  {
   "cell_type": "markdown",
   "metadata": {
    "toc": true
   },
   "source": [
    "<h1>Table of Contents<span class=\"tocSkip\"></span></h1>\n",
    "<div class=\"toc\"><ul class=\"toc-item\"><li><span><a href=\"#Single-cell-tracks\" data-toc-modified-id=\"Single-cell-tracks-1\"><span class=\"toc-item-num\">1&nbsp;&nbsp;</span>Single cell tracks</a></span><ul class=\"toc-item\"><li><span><a href=\"#Analyse-multiple-data-sets\" data-toc-modified-id=\"Analyse-multiple-data-sets-1.1\"><span class=\"toc-item-num\">1.1&nbsp;&nbsp;</span>Analyse multiple data sets</a></span><ul class=\"toc-item\"><li><span><a href=\"#Process-data\" data-toc-modified-id=\"Process-data-1.1.1\"><span class=\"toc-item-num\">1.1.1&nbsp;&nbsp;</span>Process data</a></span></li></ul></li></ul></li><li><span><a href=\"#Old-code-(ignore-below)\" data-toc-modified-id=\"Old-code-(ignore-below)-2\"><span class=\"toc-item-num\">2&nbsp;&nbsp;</span>Old code (ignore below)</a></span><ul class=\"toc-item\"><li><span><a href=\"#Spatial-correlations\" data-toc-modified-id=\"Spatial-correlations-2.1\"><span class=\"toc-item-num\">2.1&nbsp;&nbsp;</span>Spatial correlations</a></span><ul class=\"toc-item\"><li><span><a href=\"#Spatial-velocity-correlations\" data-toc-modified-id=\"Spatial-velocity-correlations-2.1.1\"><span class=\"toc-item-num\">2.1.1&nbsp;&nbsp;</span>Spatial velocity correlations</a></span></li><li><span><a href=\"#Check-that-the-number-of-pairs-of-cells-in-each-of-the-bins-is-roughly-equal\" data-toc-modified-id=\"Check-that-the-number-of-pairs-of-cells-in-each-of-the-bins-is-roughly-equal-2.1.2\"><span class=\"toc-item-num\">2.1.2&nbsp;&nbsp;</span>Check that the number of pairs of cells in each of the bins is roughly equal</a></span></li><li><span><a href=\"#Pairwise-distance-statistics\" data-toc-modified-id=\"Pairwise-distance-statistics-2.1.3\"><span class=\"toc-item-num\">2.1.3&nbsp;&nbsp;</span>Pairwise distance statistics</a></span></li></ul></li></ul></li></ul></div>"
   ]
  },
  {
   "cell_type": "markdown",
   "metadata": {},
   "source": [
    "# Single cell tracks"
   ]
  },
  {
   "cell_type": "markdown",
   "metadata": {},
   "source": [
    "## Analyse multiple data sets"
   ]
  },
  {
   "cell_type": "code",
   "execution_count": null,
   "metadata": {
    "scrolled": false
   },
   "outputs": [],
   "source": [
    "# --- Input parameters ---\n",
    "video_labels = [\"BAPN_E14.0_211223\", \"BAPN_E14.0_221114\"];\n",
    "pix_per_micron_all = [3.368, 3.376]; # Number of pixels per micron\n",
    "names_compare = [\"Bone Front\", \"In Bone\", \"Further In Bone\"];\n",
    "\n",
    "video_image_sizes = np.array([[1136.28, 1133.31], [1158.77, 1128.85]]); # in microns\n",
    "\n",
    "delta_t = 1/6; # time interval between slices in hrs\n"
   ]
  },
  {
   "cell_type": "code",
   "execution_count": null,
   "metadata": {},
   "outputs": [],
   "source": [
    "data_paths = [\"/Users/dang/Documents/Projects/Tabler_skull/Data_Live_Imaging/211223 BAPN E14.0 live imaging/cell_tracks/\",\n",
    "              \"/Users/dang/Documents/Projects/Tabler_skull/Data_Live_Imaging/221114 BAPN E14.0 live imaging/cell_tracks/\"]\n",
    "fnames = [\"1_interface_points.csv\",\n",
    "         \"2_bulk_moving_cells_points.csv\"]\n",
    "\n",
    "N_videos = len(data_paths)\n",
    "N_files_per_video = len(fnames)\n",
    "\n",
    "loaded_data_all = [[None]*len(fnames) for _ in range(len(data_paths))];\n",
    "\n",
    "for i in range(len(data_paths)):\n",
    "    for j in range(len(fnames)):\n",
    "        loaded_data_all[i][j] = pd.read_csv(os.path.join(data_paths[i], fnames[j]))\n"
   ]
  },
  {
   "cell_type": "code",
   "execution_count": null,
   "metadata": {
    "scrolled": true
   },
   "outputs": [],
   "source": [
    "# Load files\n",
    "# data_path = \"/Users/dang/Documents/Projects/Tabler_skull/Data_Adrian_cell_tracks/\"\n",
    "# fname_templates = [\"Results from MaxProjected_Stitched_Blurred_190305 ML1 OsxGFP Explant Video 1 (0-12hr) in um per min.csv\",\n",
    "#                   \"Results from MaxProjected_Stitched_Blurred_190314 ML1 OsxGFP Explant Video 1 (0-8hr) in um per sec.csv\",\n",
    "#                    \"Results from MaxProjected_Stitched_Blurred_200120 Live Imaging OsxGFP E1375 12 hours in um per sec.csv\",\n",
    "#                   \"Results from MAX_BLUR_20200414AQR_osx_E13 in um per min.csv\"]\n",
    "# filenames_all = [[\"{} {}\".format(x,y) for x in names_compare] for y in fname_templates ];\n",
    "# N_videos = len(fname_templates);\n",
    "# N_files_per_video = len(names_compare);\n",
    "# video_image_sizes_pix = [[int(pix_per_micron_all[i]*video_image_sizes[i, j]) for j in range(2)] for i in range(N_videos)]; # in pixels\n",
    "\n",
    "# loaded_data_all = [[None]*N_files_per_video for _ in range(N_videos)];\n",
    "# for i in range(N_videos):    \n",
    "#     subfolder = \"Video {}/\".format(i+1);\n",
    "#     for j in range(N_files_per_video):\n",
    "#         loaded_data_all[i][j] = pd.read_csv(data_path+subfolder+filenames_all[i][j]);"
   ]
  },
  {
   "cell_type": "code",
   "execution_count": null,
   "metadata": {},
   "outputs": [],
   "source": [
    "loaded_data_all[1][1]"
   ]
  },
  {
   "cell_type": "markdown",
   "metadata": {},
   "source": [
    "### Process data"
   ]
  },
  {
   "cell_type": "code",
   "execution_count": null,
   "metadata": {},
   "outputs": [],
   "source": [
    "# Total number of cells\n",
    "N_cells_all = [ [len(np.unique(loaded_data_all[i][j].TID)) for j in range(N_files_per_video) ] for i in range(N_videos)];\n",
    "print(\"Number of cells = \" + str(N_cells_all))\n",
    "\n",
    "# Number of slices per cell\n",
    "N_slices_all = [ [len(np.unique(loaded_data_all[i][j][\"t [min]\"])) for j in range(N_files_per_video)] for i in range(N_videos)];\n",
    "print(\"Max. number of slices(=frames) per cell = \" + str(N_slices_all))"
   ]
  },
  {
   "cell_type": "markdown",
   "metadata": {},
   "source": [
    "# Old code (ignore below)"
   ]
  },
  {
   "cell_type": "markdown",
   "metadata": {},
   "source": [
    "## Spatial correlations\n",
    "How do correlations between cell motions depend on the spatial locations and distances between cells? <br>"
   ]
  },
  {
   "cell_type": "markdown",
   "metadata": {},
   "source": [
    "### Spatial velocity correlations\n",
    "Define $C_{VV}(x_i, x_j) = \\langle v(x_i, t)\\, v(x_j, t) \\rangle$ as the spatial correlation function of cell velocities. Assume $C_{VV}(x_i, x_j) = C_{VV}(x_i-x_j)$ and average over cells with the same distance (in practice, bin together pairs of cells that have similar distance to each other). "
   ]
  },
  {
   "cell_type": "code",
   "execution_count": null,
   "metadata": {
    "scrolled": false
   },
   "outputs": [],
   "source": [
    "nbins = 15;\n",
    "edges = np.linspace(0, 2000, nbins+1)\n",
    "#t_selected = np.arange(0, N_slices_all[i1][i2]-1, 6) # <--- adjust plotted times\n",
    "t_selected = np.array([0, 1, 2, 3, 4, 5, 6])*6; #np.arange(0, N_slices_all[i1][i2]-1, 6) \n",
    "normalize = 1;\n",
    "ylabel_extra='';\n",
    "if normalize:\n",
    "    ylabel_extra = \"direction\"\n",
    "    \n",
    "corr_v_all_all = np.zeros([N_videos, N_files_per_video, len(t_selected), nbins]);\n",
    "\n",
    "fig, axs = plt.subplots(N_videos, N_files_per_video, figsize=(12, 12), dpi=100)\n",
    "for i1 in range(N_videos):\n",
    "    #[ix, iy] = divmod(i1, 2); # positions of plots\n",
    "    #pix_per_micron = pix_per_micron_all[i1];\n",
    "    for i2 in range(N_files_per_video):\n",
    "        t_idx=0;\n",
    "        for t in t_selected:\n",
    "            X_all = X_all_all[i1][i2][:, t];\n",
    "            Y_all = Y_all_all[i1][i2][:, t];\n",
    "\n",
    "            # filter out cells which are not tracked\n",
    "            if t<N_slices_all[i1][i2]:\n",
    "                cell_filter = ~np.isnan( X_all_all[i1][i2][:, t+1] ); # cell posiiton still defined the next time step\n",
    "            else:\n",
    "                cell_filter = ~np.isnan( X_all_all[i1][i2][:, t] );\n",
    "            X_all = X_all[cell_filter];\n",
    "            Y_all = Y_all[cell_filter];\n",
    "\n",
    "            # pairwise distances between cells\n",
    "            incl_self = 0; # include self-pairs of the form [i,i]?\n",
    "\n",
    "            # calculate pairwise distances\n",
    "            X_all_paired = np.array([ [X_all[i], X_all[j]] for i in range(len(X_all)) for j in range(i+incl_self)]); # loop j over range(i+1) to include self-pairs, or range(i) to exclude self-pairs\n",
    "            Y_all_paired = np.array([ [Y_all[i], Y_all[j]] for i in range(len(Y_all)) for j in range(i+incl_self)]);\n",
    "            def f(x, y):\n",
    "                return np.sqrt((x[0]-x[1])**2 + (y[0]-y[1])**2)\n",
    "            pairwise_dist_all = np.array(list(map(f, X_all_paired, Y_all_paired )) );\n",
    "\n",
    "            # retrieve velocities\n",
    "            this_velocities_all = velocities_all_all[i1][i2][cell_filter, t, :];\n",
    "\n",
    "            # linear to pair indices\n",
    "            pair_idx = np.array([ [i, j] for i in range(len(X_all)) for j in range(i+incl_self)]); \n",
    "\n",
    "            # define bin edges, bin weights\n",
    "            # everything that falls outside of the edges of the pre-defined bins is neglected\n",
    "            hist_data, edges = np.histogram(pairwise_dist_all, bins = edges);\n",
    "            compare_bin_edges = np.array([pairwise_dist_all[i] <= edges for i in range(len(pairwise_dist_all))]);\n",
    "            bin_idx = np.array(list(map( np.argmax, compare_bin_edges))); # indices of the bins of all the data\n",
    "\n",
    "            # calculate correlations\n",
    "            corr_v_all = np.zeros(len(edges)-1); # correlation function\n",
    "            temp_sum = [];\n",
    "            for i in range(1, len(edges)):\n",
    "                bin_i_idx = np.argwhere(bin_idx==i).flatten(); # linear indices that fall in bin i\n",
    "                temp_sum.append(len(bin_i_idx));\n",
    "                bin_i_pair_idx = pair_idx[bin_i_idx]; # pair indices that fall in bin i\n",
    "                this_corr_v = np.zeros( len(bin_i_pair_idx) );\n",
    "                for j in range(len(bin_i_pair_idx)):\n",
    "                    cell_1=bin_i_pair_idx[j][0]\n",
    "                    cell_2=bin_i_pair_idx[j][1]\n",
    "                    v1 = this_velocities_all[cell_1];\n",
    "                    v2 = this_velocities_all[cell_2];\n",
    "                    #corr_v_all[i] += np.inner(v1, v2)/np.linalg.norm(v1)/np.linalg.norm(v2); \n",
    "                    corr_temp = np.inner(v1, v2);\n",
    "                    if normalize and np.linalg.norm(v1)!=0 and np.linalg.norm(v2)!=0:\n",
    "                        corr_temp = corr_temp/np.linalg.norm(v1)/np.linalg.norm(v2);  \n",
    "                    this_corr_v[j] = corr_temp;\n",
    "                #corr_v_all[i] = corr_v_all[i]/len(bin_i_pair_idx);\n",
    "                corr_v_all[i-1] = np.nanmean(this_corr_v);\n",
    "\n",
    "            # plot results\n",
    "            bincenters = (edges[1:]+edges[:-1])/2;\n",
    "            #axs[i1, i2].plot(bincenters, corr_v_all, alpha=0.5);\n",
    "            axs[i1, i2].plot(bincenters/pix_per_micron, corr_v_all, color=np.ones(3)*0.8*(t/t_selected[-1]), alpha=0.5)\n",
    "            \n",
    "            # store all results\n",
    "            corr_v_all_all[i1, i2, t_idx, :] = corr_v_all;\n",
    "            t_idx += 1;\n",
    "            \n",
    "        this_title = 'Video {}, {}'.format(i1+1, names_compare[i2]);\n",
    "        axs[i1, i2].set(title=this_title, xlabel = 'Distance ($\\mu m$)', ylabel = 'Velocity {}\\n correlation'.format(ylabel_extra))\n",
    "        if normalize:\n",
    "            axs[i1, i2].set(ylim = (-1, 1))\n",
    "plt.subplots_adjust(hspace=0.5, wspace=0.4)\n",
    "plt.show()\n",
    "print( \"Lighter colors = later times\" )\n",
    "\n",
    "# Display legend\n",
    "# axs[1].plot(np.nan, label='t={}'.format(t/6));\n",
    "# axs[1].legend(loc='upper left')\n",
    "# axs[1].set(xticks=[], yticks=[]);\n",
    "# axs[1].axis('off')\n",
    "# plt.xlabel('Distance ($\\mu m$)')\n",
    "# plt.ylabel('Velocity correlation')\n",
    "# plt.ylim([-1, 1])"
   ]
  },
  {
   "cell_type": "code",
   "execution_count": null,
   "metadata": {},
   "outputs": [],
   "source": [
    "t_idx_selected = np.arange(len(t_selected)-1); #np.array([0, 2, 4, 6])*6; #np.arange(0, N_slices_all[i1][i2]-1, 6) \n",
    "\n",
    "fig, axs = plt.subplots(N_videos, len(t_idx_selected)+1, figsize=(4*len(t_idx_selected), 3*N_videos), dpi=100)\n",
    "\n",
    "for i1 in range(N_videos):\n",
    "    #[ix, iy] = divmod(i1, 2); # positions of plots\n",
    "    #pix_per_micron = pix_per_micron_all[i1];\n",
    "    for t_idx in range(len(t_idx_selected)):\n",
    "        t = t_selected[t_idx];\n",
    "        for i2 in range(N_files_per_video):\n",
    "            corr_v_all = corr_v_all_all[i1, i2, t_idx, :];\n",
    "            \n",
    "            # plot results\n",
    "            bincenters = (edges[1:]+edges[:-1])/2;\n",
    "            #axs[i1, i2].plot(bincenters, corr_v_all, alpha=0.5);\n",
    "            axs[i1, t_idx].plot(bincenters/pix_per_micron, corr_v_all, color=def_colors[i2], alpha=0.5)\n",
    "            \n",
    "        this_title = 'Video {}, t={} hr'.format(i1+1, t/6);\n",
    "        axs[i1, t_idx].set(title=this_title, xlabel = 'Distance ($\\mu m$)', ylabel = 'Velocity {}\\n correlation'.format(ylabel_extra))\n",
    "        if normalize:\n",
    "            axs[i1, t_idx].set_ylim( (-1, 1) )\n",
    "\n",
    "# ---- Legend ----\n",
    "for row in range(N_videos):\n",
    "    for i, this_label in enumerate(names_compare):\n",
    "        axs[row, t_idx+1].plot(np.nan, label=this_label, color=def_colors[i])\n",
    "    axs[row, t_idx+1].legend(loc='upper left')\n",
    "    axs[row, t_idx+1].axis('off')\n",
    "\n",
    "plt.subplots_adjust(hspace=0.5, wspace=0.4)\n",
    "plt.tight_layout()\n",
    "\n",
    "plt.show()"
   ]
  },
  {
   "cell_type": "markdown",
   "metadata": {},
   "source": [
    "<b>Conclusion</b>: no significant spatial dependence of velocity correlations. Generally, cells far away from each other are just as likely to move in the same direction as cells close to each other."
   ]
  },
  {
   "cell_type": "code",
   "execution_count": null,
   "metadata": {},
   "outputs": [],
   "source": [
    "t_idx_selected = np.arange(len(t_selected)-1); #np.array([0, 2, 4, 6])*6; #np.arange(0, N_slices_all[i1][i2]-1, 6) \n",
    "video_sel = [0, 1, 2, 3];\n",
    "\n",
    "fig, axs = plt.subplots(1, len(t_idx_selected)+1, figsize=(16, 3), dpi=100)\n",
    "\n",
    "for t_idx in range(len(t_idx_selected)):\n",
    "    t = t_selected[t_idx];\n",
    "    for i2 in range(N_files_per_video):\n",
    "        corr_v_all_avg = np.mean( corr_v_all_all[:, i2, t_idx, :], axis=0 )\n",
    "        corr_v_all_sem = np.std( corr_v_all_all[:, i2, t_idx, :], axis=0 )/np.sqrt(N_videos);\n",
    "        \n",
    "        # plot results\n",
    "        bincenters = (edges[1:]+edges[:-1])/2;\n",
    "        #axs[i1, i2].plot(bincenters, corr_v_all, alpha=0.5);\n",
    "        axs[t_idx].plot(bincenters/pix_per_micron, corr_v_all_avg, color=colors_cats[i2], alpha=0.5)\n",
    "        axs[t_idx].fill_between(bincenters/pix_per_micron, corr_v_all_avg-corr_v_all_sem, corr_v_all_avg+corr_v_all_sem, color=colors_cats[i2], alpha=0.2)\n",
    "\n",
    "    this_title = 't={} hr'.format(t/6);\n",
    "    axs[t_idx].set(title=this_title, xlabel = 'Distance ($\\mu m$)', ylabel = '{}\\n correlation'.format(ylabel_extra));\n",
    "    if normalize:\n",
    "        axs[t_idx].set_ylim( (-0.2, 1) )\n",
    "\n",
    "# ---- Legend ----\n",
    "for i, this_label in enumerate(names_compare):\n",
    "    axs[len(t_idx_selected)].plot(np.nan, label=this_label, color=colors_cats[i])\n",
    "axs[len(t_idx_selected)].legend(loc='upper left')\n",
    "axs[len(t_idx_selected)].axis('off')\n",
    "        \n",
    "plt.subplots_adjust(hspace=0.5, wspace=0.4)\n",
    "plt.tight_layout()\n",
    "\n",
    "plt.show()"
   ]
  },
  {
   "cell_type": "markdown",
   "metadata": {},
   "source": [
    "### Check that the number of pairs of cells in each of the bins is roughly equal\n",
    "(or at least, that there are no bins which have very few cells)"
   ]
  },
  {
   "cell_type": "code",
   "execution_count": null,
   "metadata": {},
   "outputs": [],
   "source": [
    "t = 0;\n",
    "#------------ Recompute bins ------------------ \n",
    "X_all = X_all_all[i1][i2][:, t]; Y_all = Y_all_all[i1][i2][:, t];\n",
    "if t<N_slices_all[i1][i2]:\n",
    "    cell_filter = ~np.isnan( X_all_all[i1][i2][:, t+1] ); # cell posiiton still defined the next time step\n",
    "else:\n",
    "    cell_filter = ~np.isnan( X_all_all[i1][i2][:, t] );\n",
    "X_all = X_all[cell_filter]; Y_all = Y_all[cell_filter];\n",
    "X_all_paired = np.array([ [X_all[i], X_all[j]] for i in range(len(X_all)) for j in range(i+incl_self)]); # loop j over range(i+1) to include self-pairs, or range(i) to exclude self-pairs\n",
    "Y_all_paired = np.array([ [Y_all[i], Y_all[j]] for i in range(len(Y_all)) for j in range(i+incl_self)]);\n",
    "def f(x, y):\n",
    "    return np.sqrt((x[0]-x[1])**2 + (y[0]-y[1])**2)\n",
    "pairwise_dist_all = np.array(list(map(f, X_all_paired, Y_all_paired )) );\n",
    "this_velocities_all = velocities_all_all[i1][i2][cell_filter, t, :];\n",
    "pair_idx = np.array([ [i, j] for i in range(len(X_all)) for j in range(i+incl_self)]); \n",
    "hist_data, edges = np.histogram(pairwise_dist_all, bins = edges);\n",
    "#----------------------------------------------\n",
    "\n",
    "plt.figure(dpi=100);\n",
    "bincenters = (edges[1:]+edges[:-1])/2\n",
    "plt.bar(range(len(hist_data)), hist_data)\n",
    "#plt.plot([0, 900], 20*np.ones(2), 'r--')\n",
    "plt.xlabel('Bin')\n",
    "plt.ylabel('Count')\n",
    "plt.show()"
   ]
  },
  {
   "cell_type": "code",
   "execution_count": null,
   "metadata": {},
   "outputs": [],
   "source": [
    "# --- Troubleshoot ---\n",
    "print( hist_data )\n",
    "print( temp_sum )\n",
    "print(np.sum(bin_idx==0) )\n",
    "#print( np.argwhere( np.array(list(map( np.argmax, compare_bin_edges))) == 0 ) )\n",
    "this_bin = 2;\n",
    "print( pairwise_dist_all[this_bin] )\n",
    "print( compare_bin_edges[this_bin] )\n",
    "print( pair_idx[this_bin] )\n",
    "# print( X_all_all[i1][i2][10, t], X_all_all[i1][i2][5, t] )\n",
    "# print( Y_all_all[i1][i2][10, t], Y_all_all[i1][i2][5, t] )"
   ]
  },
  {
   "cell_type": "markdown",
   "metadata": {},
   "source": [
    "### Pairwise distance statistics\n",
    "\n",
    "Before plotting the correlation functions, we should examine the distribution of all pairwise distances of the tracked cells. <br>"
   ]
  },
  {
   "cell_type": "code",
   "execution_count": null,
   "metadata": {
    "scrolled": true
   },
   "outputs": [],
   "source": [
    "# --- Plot for one snapshot ---\n",
    "i1=0;\n",
    "i2=1;\n",
    "t=2;\n",
    "\n",
    "X_all = X_all_all[i1][i2][:, t];\n",
    "Y_all = Y_all_all[i1][i2][:, t];\n",
    "# pairwise distances between cells\n",
    "incl_self = 0; # include self-pairs of the form [i,i]?\n",
    "# loop j over range(i+1) to include self-pairs, or range(i) to exclude self-pairs\n",
    "X_all_paired = np.array([ [X_all[i], X_all[j]] for i in range(len(X_all)) for j in range(i+incl_self)]);\n",
    "Y_all_paired = np.array([ [Y_all[i], Y_all[j]] for i in range(len(X_all)) for j in range(i+incl_self)]);\n",
    "def f(x, y):\n",
    "    return np.sqrt((x[0]-x[1])**2 + (y[0]-y[1])**2)\n",
    "pairwise_dist_all = np.array(list(map(f, X_all_paired, Y_all_paired )) );\n",
    "\n",
    "# -- Verify that this yields the pair-wise elements of an array --\n",
    "# data_all = np.array([[i, j] for i in range(10) for j in range(i+1)]).T;\n",
    "# plt.scatter( data_all[0], data_all[1]  )\n",
    "plt.figure(dpi=100)\n",
    "plt.hist(pairwise_dist_all, bins=15, alpha = 0.4)\n",
    "plt.show()"
   ]
  },
  {
   "cell_type": "code",
   "execution_count": null,
   "metadata": {
    "scrolled": false
   },
   "outputs": [],
   "source": [
    "# --- plot for all results ---\n",
    "t=0;\n",
    "incl_self = 0; # include self?\n",
    "\n",
    "pairwise_dist_all_all = [[None]*N_files_per_video for _ in range(N_videos)];\n",
    "fig, axs = plt.subplots(2, 3, figsize=(12, 5), dpi=100)\n",
    "for i1 in range(N_videos):\n",
    "    [ix, iy] = divmod(i1, 2)\n",
    "    for i2 in range(N_files_per_video):\n",
    "        X_all = X_all_all[i1][i2][:, t];\n",
    "        Y_all = Y_all_all[i1][i2][:, t];\n",
    "        # pairwise distances between cells\n",
    "        incl_self = 0; # include self-pairs of the form [i,i]?\n",
    "        # loop j over range(i+1) to include self-pairs, or range(i) to exclude self-pairs\n",
    "        X_all_paired = np.array([ [X_all[i], X_all[j]] for i in range(len(X_all)) for j in range(i+incl_self)]);\n",
    "        Y_all_paired = np.array([ [Y_all[i], Y_all[j]] for i in range(len(Y_all)) for j in range(i+incl_self)]);\n",
    "        def f(x, y):\n",
    "            return np.sqrt((x[0]-x[1])**2 + (y[0]-y[1])**2)\n",
    "        pairwise_dist_all = np.array(list(map(f, X_all_paired, Y_all_paired )) );\n",
    "        \n",
    "        # store for later use\n",
    "        pairwise_dist_all_all[i1][i2] = pairwise_dist_all; \n",
    "        \n",
    "        # plot histogram\n",
    "        axs[ix, iy].hist(pairwise_dist_all, bins=15, alpha = 0.4, density=True)\n",
    "        \n",
    "# --- legend ---\n",
    "for row in range(2):\n",
    "    for i, this_label in enumerate(names_compare):\n",
    "        axs[row, 2].plot(np.nan, label=this_label)\n",
    "    axs[row, 2].legend(loc='upper left')\n",
    "    axs[row, 2].axis('off')"
   ]
  }
 ],
 "metadata": {
  "kernelspec": {
   "display_name": "Python 3",
   "language": "python",
   "name": "python3"
  },
  "language_info": {
   "codemirror_mode": {
    "name": "ipython",
    "version": 3
   },
   "file_extension": ".py",
   "mimetype": "text/x-python",
   "name": "python",
   "nbconvert_exporter": "python",
   "pygments_lexer": "ipython3",
   "version": "3.8.13"
  },
  "toc": {
   "base_numbering": 1,
   "nav_menu": {},
   "number_sections": true,
   "sideBar": true,
   "skip_h1_title": false,
   "title_cell": "Table of Contents",
   "title_sidebar": "Contents",
   "toc_cell": true,
   "toc_position": {
    "height": "calc(100% - 180px)",
    "left": "10px",
    "top": "150px",
    "width": "343.367px"
   },
   "toc_section_display": true,
   "toc_window_display": true
  },
  "varInspector": {
   "cols": {
    "lenName": 16,
    "lenType": 16,
    "lenVar": 40
   },
   "kernels_config": {
    "python": {
     "delete_cmd_postfix": "",
     "delete_cmd_prefix": "del ",
     "library": "var_list.py",
     "varRefreshCmd": "print(var_dic_list())"
    },
    "r": {
     "delete_cmd_postfix": ") ",
     "delete_cmd_prefix": "rm(",
     "library": "var_list.r",
     "varRefreshCmd": "cat(var_dic_list()) "
    }
   },
   "types_to_exclude": [
    "module",
    "function",
    "builtin_function_or_method",
    "instance",
    "_Feature"
   ],
   "window_display": false
  }
 },
 "nbformat": 4,
 "nbformat_minor": 2
}
