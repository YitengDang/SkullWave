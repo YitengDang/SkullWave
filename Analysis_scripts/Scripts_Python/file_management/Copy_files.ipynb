{
 "cells": [
  {
   "cell_type": "code",
   "execution_count": 6,
   "metadata": {},
   "outputs": [],
   "source": [
    "from shutil import copyfile\n",
    "\n",
    "folder = \"/Users/dang/Documents/TablerLab/Data_Live_Imaging/170902 Live Imaging/Processed_TXT_data_interface/\"\n",
    "folder_new = \"/Users/dang/Documents/TablerLab/Data_Live_Imaging/170902 Live Imaging/Processed_TXT_data_interface2/\"\n",
    "\n",
    "fname = \"MaxProjected_Stitched_dataset(0-12hr)_YD_processed_interface_t\";\n",
    "\n",
    "t=49;\n",
    "for tau in range(133-t+1):\n",
    "    fname_old = folder + fname + str(t+tau) + \".txt\";\n",
    "    fname_new = folder_new + fname + str(tau) + \".txt\";\n",
    "    copyfile(fname_old, fname_new);"
   ]
  },
  {
   "cell_type": "code",
   "execution_count": null,
   "metadata": {},
   "outputs": [],
   "source": []
  }
 ],
 "metadata": {
  "kernelspec": {
   "display_name": "Python 3",
   "language": "python",
   "name": "python3"
  },
  "language_info": {
   "codemirror_mode": {
    "name": "ipython",
    "version": 3
   },
   "file_extension": ".py",
   "mimetype": "text/x-python",
   "name": "python",
   "nbconvert_exporter": "python",
   "pygments_lexer": "ipython3",
   "version": "3.7.4"
  }
 },
 "nbformat": 4,
 "nbformat_minor": 2
}
